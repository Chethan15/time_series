{
 "cells": [
  {
   "cell_type": "code",
   "execution_count": 2,
   "metadata": {},
   "outputs": [],
   "source": [
    "import pandas as pd\n",
    "from pandas import DataFrame\n",
    "import dateutil.parser\n",
    "import matplotlib.pyplot as plt\n",
    "import numpy as np"
   ]
  },
  {
   "cell_type": "code",
   "execution_count": 3,
   "metadata": {},
   "outputs": [],
   "source": [
    "df = pd.read_csv(\"invoice_2019_06_18_I010_4500.tsv\", sep=',', header=None)\n",
    "df.columns = [\"kunag\", \"matnr\", \"date\", \"quantity\",\"price\"]"
   ]
  },
  {
   "cell_type": "code",
   "execution_count": 4,
   "metadata": {},
   "outputs": [
    {
     "name": "stdout",
     "output_type": "stream",
     "text": [
      "(1149122, 5)\n",
      "430\n",
      "711\n"
     ]
    }
   ],
   "source": [
    "# dataframe.shape \n",
    "shape = df.shape \n",
    "print(shape)\n",
    "# df.kunag.nunique(dropna = True) \n",
    "x= pd.value_counts(df.kunag)\n",
    "print(len(x))\n",
    "y= pd.value_counts(df.matnr)\n",
    "print(len(y))"
   ]
  },
  {
   "cell_type": "code",
   "execution_count": 5,
   "metadata": {},
   "outputs": [
    {
     "name": "stdout",
     "output_type": "stream",
     "text": [
      "(1087739, 5)\n",
      "kunag  430\n",
      "matnr  695\n"
     ]
    }
   ],
   "source": [
    "df1 = df[(df > 0).all(1)]\n",
    "\n",
    "# dataframe.shape \n",
    "shape = df1.shape \n",
    "print(shape)\n",
    "# df.kunag.nunique(dropna = True) \n",
    "x= pd.value_counts(df1.kunag)\n",
    "print(\"kunag \",len(x))\n",
    "y= pd.value_counts(df1.matnr)\n",
    "print(\"matnr \",len(y))"
   ]
  },
  {
   "cell_type": "code",
   "execution_count": 6,
   "metadata": {},
   "outputs": [
    {
     "data": {
      "text/plain": [
       "695"
      ]
     },
     "execution_count": 6,
     "metadata": {},
     "output_type": "execute_result"
    }
   ],
   "source": [
    "data = df1.groupby([\"matnr\"])\n",
    "len(data)"
   ]
  },
  {
   "cell_type": "code",
   "execution_count": 7,
   "metadata": {},
   "outputs": [
    {
     "data": {
      "text/plain": [
       "711"
      ]
     },
     "execution_count": 7,
     "metadata": {},
     "output_type": "execute_result"
    }
   ],
   "source": [
    "lst = df.matnr.unique() \n",
    "len(lst)"
   ]
  },
  {
   "cell_type": "code",
   "execution_count": 9,
   "metadata": {},
   "outputs": [
    {
     "name": "stderr",
     "output_type": "stream",
     "text": [
      "/home/rahul/anaconda3/lib/python3.6/site-packages/ipykernel_launcher.py:6: SettingWithCopyWarning: \n",
      "A value is trying to be set on a copy of a slice from a DataFrame.\n",
      "Try using .loc[row_indexer,col_indexer] = value instead\n",
      "\n",
      "See the caveats in the documentation: http://pandas.pydata.org/pandas-docs/stable/indexing.html#indexing-view-versus-copy\n",
      "  \n"
     ]
    },
    {
     "name": "stdout",
     "output_type": "stream",
     "text": [
      "count : 5\n"
     ]
    }
   ],
   "source": [
    "cnt = 0\n",
    "for i  in range(0,df1.shape[0]):\n",
    "    try:\n",
    "        n_df1 = data.get_group(lst[i])\n",
    "        index = lst[i]\n",
    "        n_df1['date'] = pd.to_datetime(n_df1['date'], errors='coerce')\n",
    "        del n_df1[\"kunag\"]\n",
    "        del n_df1[\"matnr\"]\n",
    "        n_df1 = n_df1.sort_values('date')\n",
    "        n_df1.set_index('date',inplace=True)\n",
    "        n_df1.index = pd.to_datetime(n_df1.index, unit='s')\n",
    "        weekly_resampled_data = n_df1.quantity.resample('W').sum() \n",
    "        weekly_resampled_data = weekly_resampled_data.replace(np.nan, 0)\n",
    "        individual_series = weekly_resampled_data.to_frame() \n",
    "        individual_series = individual_series.reset_index()\n",
    "        plt.figure(figsize=(16,8))\n",
    "        plt.plot( weekly_resampled_data, marker='.', color='red')\n",
    "        plt.xlabel(\"time\",color = \"red\")\n",
    "        plt.ylabel('quantity')\n",
    "        plt.savefig(\"/home/rahul/Downloads/bharat/time_series1/new_data_plots1/\" + 'Graph_{}.png'.format(index), format=\"PNG\")  \n",
    "\n",
    "        cnt+=1\n",
    "        plt.close()\n",
    "        if (cnt%5==0):\n",
    "            print(\"count :\", cnt)\n",
    "            break\n",
    "\n",
    "    except:\n",
    "        pass"
   ]
  },
  {
   "cell_type": "code",
   "execution_count": null,
   "metadata": {},
   "outputs": [],
   "source": []
  },
  {
   "cell_type": "code",
   "execution_count": null,
   "metadata": {},
   "outputs": [],
   "source": []
  },
  {
   "cell_type": "code",
   "execution_count": null,
   "metadata": {},
   "outputs": [],
   "source": []
  },
  {
   "cell_type": "code",
   "execution_count": null,
   "metadata": {},
   "outputs": [],
   "source": []
  },
  {
   "cell_type": "code",
   "execution_count": null,
   "metadata": {},
   "outputs": [],
   "source": []
  },
  {
   "cell_type": "code",
   "execution_count": null,
   "metadata": {},
   "outputs": [],
   "source": []
  },
  {
   "cell_type": "code",
   "execution_count": null,
   "metadata": {},
   "outputs": [],
   "source": []
  },
  {
   "cell_type": "code",
   "execution_count": null,
   "metadata": {},
   "outputs": [],
   "source": []
  },
  {
   "cell_type": "code",
   "execution_count": null,
   "metadata": {},
   "outputs": [],
   "source": []
  },
  {
   "cell_type": "code",
   "execution_count": null,
   "metadata": {},
   "outputs": [],
   "source": []
  },
  {
   "cell_type": "code",
   "execution_count": null,
   "metadata": {},
   "outputs": [],
   "source": []
  },
  {
   "cell_type": "code",
   "execution_count": null,
   "metadata": {},
   "outputs": [],
   "source": []
  },
  {
   "cell_type": "code",
   "execution_count": null,
   "metadata": {},
   "outputs": [],
   "source": []
  },
  {
   "cell_type": "code",
   "execution_count": null,
   "metadata": {},
   "outputs": [],
   "source": []
  },
  {
   "cell_type": "code",
   "execution_count": null,
   "metadata": {},
   "outputs": [],
   "source": []
  },
  {
   "cell_type": "code",
   "execution_count": 4,
   "metadata": {},
   "outputs": [
    {
     "data": {
      "text/html": [
       "<div>\n",
       "<style>\n",
       "    .dataframe thead tr:only-child th {\n",
       "        text-align: right;\n",
       "    }\n",
       "\n",
       "    .dataframe thead th {\n",
       "        text-align: left;\n",
       "    }\n",
       "\n",
       "    .dataframe tbody tr th {\n",
       "        vertical-align: top;\n",
       "    }\n",
       "</style>\n",
       "<table border=\"1\" class=\"dataframe\">\n",
       "  <thead>\n",
       "    <tr style=\"text-align: right;\">\n",
       "      <th></th>\n",
       "      <th>kunag</th>\n",
       "      <th>matnr</th>\n",
       "      <th>date</th>\n",
       "      <th>quantity</th>\n",
       "    </tr>\n",
       "  </thead>\n",
       "  <tbody>\n",
       "    <tr>\n",
       "      <th>0</th>\n",
       "      <td>600398802</td>\n",
       "      <td>115583</td>\n",
       "      <td>2019-05-24</td>\n",
       "      <td>2.0</td>\n",
       "    </tr>\n",
       "    <tr>\n",
       "      <th>1</th>\n",
       "      <td>600398802</td>\n",
       "      <td>102580</td>\n",
       "      <td>2019-05-10</td>\n",
       "      <td>1.0</td>\n",
       "    </tr>\n",
       "    <tr>\n",
       "      <th>2</th>\n",
       "      <td>600398802</td>\n",
       "      <td>115584</td>\n",
       "      <td>2019-05-03</td>\n",
       "      <td>1.0</td>\n",
       "    </tr>\n",
       "    <tr>\n",
       "      <th>3</th>\n",
       "      <td>600398802</td>\n",
       "      <td>152196</td>\n",
       "      <td>2019-05-03</td>\n",
       "      <td>1.0</td>\n",
       "    </tr>\n",
       "    <tr>\n",
       "      <th>4</th>\n",
       "      <td>600398802</td>\n",
       "      <td>146048</td>\n",
       "      <td>2019-06-07</td>\n",
       "      <td>1.0</td>\n",
       "    </tr>\n",
       "  </tbody>\n",
       "</table>\n",
       "</div>"
      ],
      "text/plain": [
       "       kunag   matnr        date  quantity\n",
       "0  600398802  115583  2019-05-24       2.0\n",
       "1  600398802  102580  2019-05-10       1.0\n",
       "2  600398802  115584  2019-05-03       1.0\n",
       "3  600398802  152196  2019-05-03       1.0\n",
       "4  600398802  146048  2019-06-07       1.0"
      ]
     },
     "execution_count": 4,
     "metadata": {},
     "output_type": "execute_result"
    }
   ],
   "source": [
    "# input_df = df[df[\"quantity\"] >=0] \n",
    "# del df['price']\n",
    "# df.head()"
   ]
  },
  {
   "cell_type": "code",
   "execution_count": null,
   "metadata": {},
   "outputs": [],
   "source": []
  }
 ],
 "metadata": {
  "kernelspec": {
   "display_name": "Python 3",
   "language": "python",
   "name": "python3"
  },
  "language_info": {
   "codemirror_mode": {
    "name": "ipython",
    "version": 3
   },
   "file_extension": ".py",
   "mimetype": "text/x-python",
   "name": "python",
   "nbconvert_exporter": "python",
   "pygments_lexer": "ipython3",
   "version": "3.6.8"
  }
 },
 "nbformat": 4,
 "nbformat_minor": 2
}
