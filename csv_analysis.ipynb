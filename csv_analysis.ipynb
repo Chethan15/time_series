{
 "cells": [
  {
   "cell_type": "code",
   "execution_count": 2,
   "metadata": {},
   "outputs": [],
   "source": [
    "import pandas as pd\n",
    "import numpy as np\n",
    "from pandas import DataFrame"
   ]
  },
  {
   "cell_type": "code",
   "execution_count": 3,
   "metadata": {},
   "outputs": [
    {
     "name": "stdout",
     "output_type": "stream",
     "text": [
      "comp_graphs\t    weight_results\t\t\t\t     weights\r\n",
      "csv_analysis.ipynb  weight_resultscomps_bilstm200_64_52_20_51__.csv\r\n",
      "graphs_weights\t    weight_resultscomps_bilstm200_64_52_20_.csv\r\n"
     ]
    }
   ],
   "source": [
    "!ls"
   ]
  },
  {
   "cell_type": "code",
   "execution_count": 4,
   "metadata": {},
   "outputs": [],
   "source": [
    "filename = \"/home/bharat/proj/time_series1/lstm/pretrained/weight_results/comps_bilstm200_64_52_20_51__.csv\""
   ]
  },
  {
   "cell_type": "code",
   "execution_count": 45,
   "metadata": {},
   "outputs": [
    {
     "data": {
      "text/plain": [
       "'comps(51, 101)_200_32_52_5_.csv'"
      ]
     },
     "execution_count": 45,
     "metadata": {},
     "output_type": "execute_result"
    }
   ],
   "source": [
    "'comps(1, 51)_200_32_52_5_.csv'     \n",
    "'comps(51, 101)_200_32_52_5_.csv'   "
   ]
  },
  {
   "cell_type": "code",
   "execution_count": 10,
   "metadata": {},
   "outputs": [],
   "source": [
    "# df1 = pd.read_csv(\"comps(1, 51)_200_32_52_10_.csv\")\n",
    "# df2 = pd.read_csv(\"comps(51, 101)_200_32_52_10_.csv\")\n",
    "# df3 = pd.read_csv(\"comps(101, 151)_200_32_52_10_.csv\")\n",
    "# df4 = pd.read_csv(\"comps(151, 201)_200_32_52_10_.csv\")\n",
    "# df5 = pd.read_csv(\"comps(201, 251)_200_32_52_10_.csv\")\n",
    "# df6 = pd.read_csv(\"comps(251, 301)_200_64_52_10_.csv\")\n",
    "# df7 = pd.read_csv(\"comps(301, 351)_200_64_52_10_.csv\")\n",
    "# df8 = pd.read_csv(\"comps(351, 401)_200_64_52_10_.csv\")\n",
    "# df9 = pd.read_csv(\"comps(401, 451)_200_64_52_10_.csv\")\n",
    "# df10 = pd.read_csv(\"comps(451, 501)_200_64_52_10_.csv\")"
   ]
  },
  {
   "cell_type": "code",
   "execution_count": 11,
   "metadata": {},
   "outputs": [],
   "source": [
    "# df3.shape"
   ]
  },
  {
   "cell_type": "code",
   "execution_count": 12,
   "metadata": {},
   "outputs": [],
   "source": [
    "# result = df1.append([df2,df3,df4,df5,df6,df7,df8,df9,df10],ignore_index = True)\n",
    "result = df1.append([df2,df3,df4,df5],ignore_index = True)\n"
   ]
  },
  {
   "cell_type": "code",
   "execution_count": 13,
   "metadata": {},
   "outputs": [
    {
     "data": {
      "text/html": [
       "<div>\n",
       "<style scoped>\n",
       "    .dataframe tbody tr th:only-of-type {\n",
       "        vertical-align: middle;\n",
       "    }\n",
       "\n",
       "    .dataframe tbody tr th {\n",
       "        vertical-align: top;\n",
       "    }\n",
       "\n",
       "    .dataframe thead th {\n",
       "        text-align: right;\n",
       "    }\n",
       "</style>\n",
       "<table border=\"1\" class=\"dataframe\">\n",
       "  <thead>\n",
       "    <tr style=\"text-align: right;\">\n",
       "      <th></th>\n",
       "      <th>arima011</th>\n",
       "      <th>kunag</th>\n",
       "      <th>lstm</th>\n",
       "      <th>matnr</th>\n",
       "    </tr>\n",
       "  </thead>\n",
       "  <tbody>\n",
       "    <tr>\n",
       "      <th>230</th>\n",
       "      <td>0.530</td>\n",
       "      <td>500061471</td>\n",
       "      <td>0.461</td>\n",
       "      <td>123371</td>\n",
       "    </tr>\n",
       "    <tr>\n",
       "      <th>231</th>\n",
       "      <td>0.499</td>\n",
       "      <td>500061471</td>\n",
       "      <td>0.505</td>\n",
       "      <td>126073</td>\n",
       "    </tr>\n",
       "    <tr>\n",
       "      <th>232</th>\n",
       "      <td>0.507</td>\n",
       "      <td>500061471</td>\n",
       "      <td>0.546</td>\n",
       "      <td>129254</td>\n",
       "    </tr>\n",
       "    <tr>\n",
       "      <th>233</th>\n",
       "      <td>3.491</td>\n",
       "      <td>500061471</td>\n",
       "      <td>2.990</td>\n",
       "      <td>132530</td>\n",
       "    </tr>\n",
       "    <tr>\n",
       "      <th>234</th>\n",
       "      <td>1.097</td>\n",
       "      <td>500061471</td>\n",
       "      <td>0.991</td>\n",
       "      <td>132540</td>\n",
       "    </tr>\n",
       "  </tbody>\n",
       "</table>\n",
       "</div>"
      ],
      "text/plain": [
       "     arima011      kunag   lstm   matnr\n",
       "230     0.530  500061471  0.461  123371\n",
       "231     0.499  500061471  0.505  126073\n",
       "232     0.507  500061471  0.546  129254\n",
       "233     3.491  500061471  2.990  132530\n",
       "234     1.097  500061471  0.991  132540"
      ]
     },
     "execution_count": 13,
     "metadata": {},
     "output_type": "execute_result"
    }
   ],
   "source": [
    "result.tail()"
   ]
  },
  {
   "cell_type": "code",
   "execution_count": 14,
   "metadata": {},
   "outputs": [
    {
     "data": {
      "text/plain": [
       "(235, 4)"
      ]
     },
     "execution_count": 14,
     "metadata": {},
     "output_type": "execute_result"
    }
   ],
   "source": [
    "result.shape"
   ]
  },
  {
   "cell_type": "code",
   "execution_count": 6,
   "metadata": {},
   "outputs": [],
   "source": [
    "df = pd.read_csv(filename)"
   ]
  },
  {
   "cell_type": "code",
   "execution_count": 11,
   "metadata": {},
   "outputs": [
    {
     "data": {
      "text/plain": [
       "(38, 5)"
      ]
     },
     "execution_count": 11,
     "metadata": {},
     "output_type": "execute_result"
    }
   ],
   "source": [
    "df.shape"
   ]
  },
  {
   "cell_type": "code",
   "execution_count": 15,
   "metadata": {},
   "outputs": [],
   "source": [
    "n = 500\n",
    "epoch = 200\n",
    "batch = 32\n",
    "order = 52\n",
    "lstm_units = 10\n",
    "filename = \"comps_EBOL_\"+str((n))+\"_\"+str(epoch)+\"_\"+str(batch)+\"_\"+str(order)+\"_\"+str(lstm_units)"
   ]
  },
  {
   "cell_type": "code",
   "execution_count": 16,
   "metadata": {},
   "outputs": [],
   "source": [
    "export_csv = result.to_csv (r'appended/'+filename+'_.csv',sep = \",\", index = None, header=True)"
   ]
  },
  {
   "cell_type": "code",
   "execution_count": 9,
   "metadata": {},
   "outputs": [],
   "source": [
    "minimum = df.idxmin(axis=1)"
   ]
  },
  {
   "cell_type": "code",
   "execution_count": 18,
   "metadata": {},
   "outputs": [],
   "source": [
    "# /home/bharat/proj/time_series1/lstm/pretrained/weight_results/appended/comps_EBOL_100_200_64_52_5_.csv"
   ]
  },
  {
   "cell_type": "code",
   "execution_count": 19,
   "metadata": {},
   "outputs": [],
   "source": [
    "# minimum"
   ]
  },
  {
   "cell_type": "code",
   "execution_count": 10,
   "metadata": {},
   "outputs": [
    {
     "data": {
      "text/plain": [
       "'arima011'"
      ]
     },
     "execution_count": 10,
     "metadata": {},
     "output_type": "execute_result"
    }
   ],
   "source": [
    "minimum[0]"
   ]
  },
  {
   "cell_type": "code",
   "execution_count": 12,
   "metadata": {},
   "outputs": [
    {
     "name": "stdout",
     "output_type": "stream",
     "text": [
      "21\n",
      "9\n",
      "8\n"
     ]
    }
   ],
   "source": [
    "a = 0\n",
    "b = 0\n",
    "c = 0\n",
    "for i in range(0,len(minimum)):\n",
    "    if(minimum[i]==\"arima011\"):\n",
    "        a+=1\n",
    "    elif(minimum[i]==\"lstm\"):\n",
    "        b+=1\n",
    "    elif(minimum[i]==\"bilstm\"):\n",
    "        c+=1\n",
    "print(a)\n",
    "print(b)\n",
    "print(c)"
   ]
  },
  {
   "cell_type": "code",
   "execution_count": 14,
   "metadata": {},
   "outputs": [
    {
     "data": {
      "text/plain": [
       "arima011    4.267300e+01\n",
       "bilstm      4.584600e+01\n",
       "kunag       1.900217e+10\n",
       "lstm        4.209100e+01\n",
       "matnr       5.040766e+06\n",
       "dtype: float64"
      ]
     },
     "execution_count": 14,
     "metadata": {},
     "output_type": "execute_result"
    }
   ],
   "source": [
    "df.sum(axis = 0, skipna = True) "
   ]
  },
  {
   "cell_type": "code",
   "execution_count": 205,
   "metadata": {},
   "outputs": [],
   "source": [
    "# result1 = result1.convert_objects(convert_numeric=True).astype(float)\n",
    "# round(result1.sum(axis = 0, skipna = True),3)"
   ]
  },
  {
   "cell_type": "code",
   "execution_count": 160,
   "metadata": {},
   "outputs": [],
   "source": [
    "import os\n",
    "import glob\n",
    "import pandas as pd"
   ]
  },
  {
   "cell_type": "code",
   "execution_count": 161,
   "metadata": {},
   "outputs": [
    {
     "data": {
      "text/plain": [
       "u'/home/bharat/proj/time_series1/lstm/pretrained/weight_results'"
      ]
     },
     "execution_count": 161,
     "metadata": {},
     "output_type": "execute_result"
    }
   ],
   "source": [
    "pwd"
   ]
  },
  {
   "cell_type": "code",
   "execution_count": 164,
   "metadata": {},
   "outputs": [],
   "source": [
    "extension = 'csv'\n",
    "all_filenames = [i for i in glob.glob('*.{}'.format(extension))]"
   ]
  },
  {
   "cell_type": "code",
   "execution_count": 165,
   "metadata": {},
   "outputs": [
    {
     "data": {
      "text/plain": [
       "['comps(51, 101)_200_1_52_10_.csv',\n",
       " 'comps(301, 351)_200_64_52_10_.csv',\n",
       " 'EBOL_200_32_52_50.csv',\n",
       " 'EBOL_200_1_52_15.csv',\n",
       " 'EBOL_200_1_52_10.csv',\n",
       " 'EBOL_200_10_52_50.csv',\n",
       " 'comps(1, 21)_1000_32_52_5_.csv',\n",
       " 'EBOL_200_128_52_50.csv',\n",
       " 'EBOL_exp_200_32_52_50.csv',\n",
       " 'EBOL_200_32_52_5.csv',\n",
       " 'comps(1, 51)_200_32_52_5_.csv',\n",
       " 'comps(101, 151)_200_64_52_10_.csv',\n",
       " 'comps(201, 251)_200_64_52_10_.csv',\n",
       " 'EBOL_200_64_52_50.csv',\n",
       " 'comps(1, 51)_200_1_52_10_.csv',\n",
       " 'comps(351, 401)_200_64_52_10_.csv',\n",
       " 'EBOL_200_1_52_5.csv',\n",
       " 'comps(151, 201)_200_64_52_10_.csv',\n",
       " 'comps(1, 51)_200_64_52_10_.csv',\n",
       " 'comps(51, 101)_200_32_52_5_.csv',\n",
       " 'comps(451, 501)_200_64_52_10_.csv',\n",
       " 'comps(251, 301)_200_64_52_10_.csv',\n",
       " 'EBOL_200_64_52_5.csv',\n",
       " 'comps(401, 451)_200_64_52_10_.csv',\n",
       " 'comps(1,31)_200_64_52_5_.csv',\n",
       " 'EBOL_200_1_4_10.csv',\n",
       " 'comps(31, 61)_200_64_52_5_.csv',\n",
       " 'comps(61, 101)_200_64_52_5_.csv',\n",
       " 'comps(51, 101)_200_64_52_10_.csv']"
      ]
     },
     "execution_count": 165,
     "metadata": {},
     "output_type": "execute_result"
    }
   ],
   "source": [
    "all_filenames"
   ]
  },
  {
   "cell_type": "code",
   "execution_count": null,
   "metadata": {},
   "outputs": [],
   "source": []
  }
 ],
 "metadata": {
  "kernelspec": {
   "display_name": "Python 2",
   "language": "python",
   "name": "python2"
  },
  "language_info": {
   "codemirror_mode": {
    "name": "ipython",
    "version": 3
   },
   "file_extension": ".py",
   "mimetype": "text/x-python",
   "name": "python",
   "nbconvert_exporter": "python",
   "pygments_lexer": "ipython3",
   "version": "3.6.8"
  }
 },
 "nbformat": 4,
 "nbformat_minor": 2
}
