{
 "cells": [
  {
   "cell_type": "code",
   "execution_count": null,
   "metadata": {},
   "outputs": [],
   "source": [
    "import pandas as pd\n",
    "from pandas import DataFrame\n",
    "import dateutil.parser\n",
    "import matplotlib.pyplot as plt\n",
    "import numpy as np"
   ]
  },
  {
   "cell_type": "code",
   "execution_count": null,
   "metadata": {},
   "outputs": [],
   "source": [
    "df = pd.read_csv(\"4200_C005_2019_03_03.tsv\", sep=',', header=None)\n",
    "df.columns = [\"kunag\", \"matnr\", \"date\", \"quantity\",\"price\"]\n",
    "del df['price']\n",
    "df = df[df[\"quantity\"] >=0]  "
   ]
  },
  {
   "cell_type": "code",
   "execution_count": null,
   "metadata": {},
   "outputs": [],
   "source": [
    "from datetime import datetime, timedelta \n",
    "freq = 0\n",
    "cnt = 0\n",
    "lst = []\n",
    "bucket = pd.DataFrame({\"kunag\" : [\" \"],\"matnr\" : [\" \"]})\n",
    "for index,group in df.groupby([\"kunag\",\"matnr\"]):\n",
    "    n_df1 = df.groupby([\"kunag\",\"matnr\"]).get_group((index[0], index[1]))\n",
    "    n_df1.date = n_df1.date.apply(lambda x : pd.to_datetime(x,format = '%Y%m%d', errors='ignore'))\n",
    "    n_df1 = n_df1.sort_values('date')\n",
    "    delta = (pd.to_datetime(n_df1[\"date\"].iloc[-1], format=\"%Y%m%d\") - pd.to_datetime(n_df1[\"date\"].iloc[0], format=\"%Y%m%d\")).days\n",
    "\n",
    "    if(delta>730):\n",
    "        last_1yr = n_df1[\"date\"].iloc[-1] - timedelta(days = 365) \n",
    "        lst.append((n_df1[\"date\"]>=last_1yr).sum())\n",
    "        k = (n_df1[\"date\"]>=last_1yr).sum()\n",
    "        if(k>=26):\n",
    "            print(\"index : \",[index])\n",
    "            print(\"Count :\",cnt)\n",
    "            print(\"Time delta :\",delta,\"days\")\n",
    "            print(\"last date :\",n_df1[\"date\"].iloc[-1])\n",
    "            print(\"last 1 year :\",last_1yr)\n",
    "            print(\"invoice generated in the last 1 year :\",k,\"\\n\")\n",
    "            bucket1 = pd.DataFrame({\"kunag\" : [index[0]],\"matnr\" : [index[1]]})\n",
    "            bucket = bucket.append(bucket1, ignore_index = True)         \n",
    "    cnt+=1\n",
    "print(bucket)"
   ]
  },
  {
   "cell_type": "code",
   "execution_count": null,
   "metadata": {},
   "outputs": [],
   "source": [
    "export_csv = bucket.to_csv (r'bucket1.csv',sep = \",\", index = None, header=True)"
   ]
  },
  {
   "cell_type": "code",
   "execution_count": null,
   "metadata": {},
   "outputs": [],
   "source": []
  }
 ],
 "metadata": {
  "kernelspec": {
   "display_name": "Python 3",
   "language": "python",
   "name": "python3"
  },
  "language_info": {
   "codemirror_mode": {
    "name": "ipython",
    "version": 3
   },
   "file_extension": ".py",
   "mimetype": "text/x-python",
   "name": "python",
   "nbconvert_exporter": "python",
   "pygments_lexer": "ipython3",
   "version": "3.6.8"
  }
 },
 "nbformat": 4,
 "nbformat_minor": 2
}
