{
 "cells": [
  {
   "cell_type": "code",
   "execution_count": null,
   "metadata": {},
   "outputs": [],
   "source": [
    "import os\n",
    "from models_all import *\n",
    "\n",
    "import time\n",
    "%matplotlib inline"
   ]
  },
  {
   "cell_type": "code",
   "execution_count": null,
   "metadata": {
    "scrolled": true
   },
   "outputs": [],
   "source": [
    "bucket = pd.read_csv(\"bucket.csv\")\n",
    "df = pd.read_csv(\"4200_C005_2019_03_03.tsv\", sep=',', header=None)\n",
    "df.columns = [\"kunag\", \"matnr\", \"date\", \"quantity\",\"price\"]\n",
    "\n",
    "main_df = pd.DataFrame(OrderedDict({\"kunag\" : [\"kunag\"],\"matnr\" : [\"matnr\"],\n",
    "                       \"Naive\" : [\"-\"],\n",
    "                       \"Average\" : [\"-\"],\n",
    "                       \"Moving Average\" : [\"-\"],\n",
    "                       \"SES\" : [\"-\"],\n",
    "                       \"Holts Linear\" : [\"-\"],\n",
    "                       \"Holts Winter\" : [\"-\"],\n",
    "                       \"Arima\" : [\"-\"],\n",
    "                       \"prophet\" :[\"-\"],\n",
    "                       \"croston tsb\" : [\"-\"]}))\n",
    "\n",
    "\n",
    "n = 16               #number of points to predict\n",
    "rolling = 30         #MOVING AVERAGE FORECAST\n",
    "sc = 0.2             #SES-SIMPLE EXPONENTIAL SMOOTHING\n",
    "sl = 0.3\n",
    "ss = 0.1   #HOLTS LINEAR (sl =smoothong level, ss = smoothing slope)\n",
    "sp = 4               #HOLTS WINTERS (sp = seasonal period)\n",
    "p,d,q = 2,1,2        #SARIMA\n",
    "sps = 0.2            #PROPHET (sps = seasonality prior scale)\n",
    "alpha,beta = 0.2,0.2 #CROSTON TSB\n",
    "\n",
    "\n",
    "cnt = 0\n",
    "for i in range (1,50):\n",
    "            kunag = int(bucket[\"kunag\"].iloc[i])\n",
    "            matnr = int(bucket[\"matnr\"].iloc[i])\n",
    "            print(\"count\",cnt)\n",
    "            print(\"index : \",kunag,\",\",matnr)\n",
    "            output1,rms1,mae1 = naive(df,kunag,matnr,16)\n",
    "            output2,rms2,mae2 = average_forecast(df,kunag,matnr,16)\n",
    "            output3,rms3,mae3 = moving_average(df,kunag,matnr,16,30)\n",
    "            output4,rms4,mae4 = ses(df,kunag,matnr,16,0.2)\n",
    "            output5,rms5,mae5 = holts_linear(df,kunag,matnr,16,0.3,0.1)\n",
    "            output6,rms6,mae6 = holts_winter(df,kunag,matnr,16,4)\n",
    "            output7,rms7,mae7 = sarima(df,kunag,matnr,16,2,1,2)\n",
    "            output8,rms8,mae8 = prophet(df, kunag,matnr,16,0.2)\n",
    "            output9,rms9,mae9 = croston_tsb(df,kunag,matnr,16,0.2,0.2)\n",
    "\n",
    "            result_df =pd.DataFrame(OrderedDict({\"kunag\" : [kunag],\"matnr\" : [matnr],\n",
    "                   \"Naive\" : [round(rms1,3)],\n",
    "                   \"Average\" : [round(rms2,3)],\n",
    "                   \"Moving Average\" : [round(rms3,3)],\n",
    "                   \"SES\" : [round(rms4,3)],\n",
    "                   \"Holts Linear\" : [round(rms5,3)],\n",
    "                   \"Holts Winter\" : [round(rms6,3)],\n",
    "                   \"Arima\" : [round(rms7,3)],\n",
    "                   \"prophet\" :[round(rms8,3)],\n",
    "                   \"croston tsb\" : [round(rms9,3)]}))\n",
    "            \n",
    "            print(result_df)\n",
    "            main_df = main_df.append(result_df, ignore_index = True) \n",
    "            cnt+=1\n",
    "#             if(cnt == 5):                     \n",
    "#                 break \n",
    "print(main_df)\n"
   ]
  },
  {
   "cell_type": "code",
   "execution_count": null,
   "metadata": {
    "scrolled": true
   },
   "outputs": [],
   "source": [
    "start = time.time()\n",
    "bucket = pd.read_csv(\"bucket.csv\")\n",
    "df = pd.read_csv(\"4200_C005_2019_03_03.tsv\", sep=',', header=None)\n",
    "df.columns = [\"kunag\", \"matnr\", \"date\", \"quantity\",\"price\"]\n",
    "\n",
    "# main_df = pd.DataFrame(OrderedDict({\"kunag\" : [\"kunag\"],\n",
    "#                         \"matnr\" : [\"matnr\"],\n",
    "#                         \"window4\" : [\"-\"],\n",
    "#                        \"window8\" : [\"-\"],\n",
    "#                        \"window12\" : [\"-\"],\n",
    "#                        \"window16\" : [\"-\"],\n",
    "#                        \"window20\" : [\"-\"],\n",
    "#                        \"window24\" : [\"-\"],\n",
    "#                        \"window28\" : [\"-\"]}))\n",
    "\n",
    "m_df = pd.DataFrame({\"kunag\" : [\"kunag\"],\"matnr\" : [\"matnr\"], \"a1\" : [\"-\"]})\n",
    "cnt = 0\n",
    "for i in range (1,100):\n",
    "            kunag = int(bucket[\"kunag\"].iloc[i])\n",
    "            matnr = int(bucket[\"matnr\"].iloc[i])\n",
    "            print(\"count\",cnt)\n",
    "            print(\"index : \",kunag,\",\",matnr)\n",
    "            print(\"window :\", 4)\n",
    "            output,rms,mae = croston_tsb(df,kunag,matnr,16,0.2,0.2)\n",
    "#             print(\"window :\", 8)\n",
    "#             output3,rms3,mae2 = moving_average(df,kunag,matnr,16,8)\n",
    "#             print(\"window :\", 12)\n",
    "#             output3,rms3,mae3 = moving_average(df,kunag,matnr,16,12)\n",
    "#             print(\"window :\", 16)\n",
    "#             output3,rms3,mae4 = moving_average(df,kunag,matnr,16,16)\n",
    "#             print(\"window :\", 20)\n",
    "#             output3,rms3,mae5 = moving_average(df,kunag,matnr,16,20)\n",
    "#             print(\"window :\", 24)\n",
    "#             output3,rms3,mae6 = moving_average(df,kunag,matnr,16,24)\n",
    "#             print(\"window :\", 28)\n",
    "#             output3,rms3,mae7 = moving_average(df,kunag,matnr,16,25)\n",
    "#             print(\"window :\", 11)\n",
    "#             output3,rms3,mae7 = moving_average(df,kunag,matnr,16,11)\n",
    "\n",
    "#             result_df =pd.DataFrame(OrderedDict({\"kunag\" : [kunag],\n",
    "#                     \"matnr\" : [matnr],\n",
    "#                     \"window4\" : [round(mae1,3)],\n",
    "#                    \"window8\" : [round(mae2,3)],\n",
    "#                    \"window12\" : [round(mae3,3)],\n",
    "#                    \"window16\" : [round(mae4,3)],\n",
    "#                    \"window20\" : [round(mae5,3)],\n",
    "#                    \"window24\" : [round(mae6,3)],\n",
    "#                    \"window28\" : [round(mae7,3)]}))\n",
    "            result_df = pd.DataFrame({\"kunag\" : [kunag],\"matnr\" : [matnr], \"a1\" : [mae]})\n",
    "            print(\"MAE : \",mae)\n",
    "#             print(result_df)\n",
    "            m_df = m_df.append(result_df, ignore_index = True) \n",
    "            cnt+=1\n",
    "#             if(cnt == 5):                     \n",
    "#                 break \n",
    "# print(main_df)\n",
    "end = time.time()\n",
    "print(\"Time Taken : \",end - start)"
   ]
  },
  {
   "cell_type": "code",
   "execution_count": null,
   "metadata": {},
   "outputs": [],
   "source": [
    "m_df = m_df[1:]\n",
    "m_df.head()"
   ]
  },
  {
   "cell_type": "code",
   "execution_count": null,
   "metadata": {},
   "outputs": [],
   "source": [
    "export_csv = m_df.to_csv (r'results/croston0.2_0.2.csv',sep = \",\", index = None, header=True)"
   ]
  },
  {
   "cell_type": "code",
   "execution_count": null,
   "metadata": {},
   "outputs": [],
   "source": [
    "data = pd.read_csv(\"results/croston0.2_0.2.csv\",sep = \",\", header = None)"
   ]
  },
  {
   "cell_type": "code",
   "execution_count": null,
   "metadata": {},
   "outputs": [],
   "source": [
    "data.head()"
   ]
  },
  {
   "cell_type": "code",
   "execution_count": null,
   "metadata": {},
   "outputs": [],
   "source": [
    "data.shape"
   ]
  },
  {
   "cell_type": "code",
   "execution_count": null,
   "metadata": {},
   "outputs": [],
   "source": [
    "data = data.convert_objects(convert_numeric=True)\n",
    "round(data.sum(axis = 0, skipna = True),3)"
   ]
  },
  {
   "cell_type": "code",
   "execution_count": null,
   "metadata": {},
   "outputs": [],
   "source": [
    "# start = time.time()\n",
    "# bucket = pd.read_csv(\"bucket.csv\")\n",
    "# df = pd.read_csv(\"4200_C005_2019_03_03.tsv\", sep=',', header=None)\n",
    "# df.columns = [\"kunag\", \"matnr\", \"date\", \"quantity\",\"price\"]\n",
    "\n",
    "# main_df = pd.DataFrame(OrderedDict({\"kunag\" : [\"kunag\"],\n",
    "#                         \"matnr\" : [\"matnr\"],\n",
    "#                         \"window4\" : [\"-\"],\n",
    "#                        \"window8\" : [\"-\"],\n",
    "#                        \"window12\" : [\"-\"],\n",
    "#                        \"window16\" : [\"-\"],\n",
    "#                        \"window20\" : [\"-\"],\n",
    "#                        \"window24\" : [\"-\"],\n",
    "#                        \"window28\" : [\"-\"]}))\n",
    "\n",
    "# # m_df = pd.DataFrame({\"kunag\" : [\"kunag\"],\"matnr\" : [\"matnr\"], \"a1\" : [\"-\"]})\n",
    "# cnt = 0\n",
    "# for i in range (1,50):\n",
    "#             kunag = int(bucket[\"kunag\"].iloc[i])\n",
    "#             matnr = int(bucket[\"matnr\"].iloc[i])\n",
    "#             print(\"count\",cnt)\n",
    "#             print(\"index : \",kunag,\",\",matnr)\n",
    "#             print(\"p,q,d :\", 0,0,0)\n",
    "#             output3,rms3,mae1 = sarima(df,kunag,matnr,16,0,0,0)\n",
    "#             print(\"p,q,d :\", 0,0,1)\n",
    "#             output3,rms3,mae2 = sarima(df,kunag,matnr,16,0,0,1)\n",
    "#             print(\"p,q,d :\", 0,1,0)\n",
    "#             output3,rms3,mae3 = sarima(df,kunag,matnr,16,0,1,0)\n",
    "#             print(\"p,q,d :\", 1,0,0)\n",
    "#             output3,rms3,mae4 = sarima(df,kunag,matnr,16,1,0,0)\n",
    "#             print(\"p,q,d :\", 0,1,1)\n",
    "#             output3,rms3,mae5 = sarima(df,kunag,matnr,16,0,1,1)\n",
    "#             print(\"p,q,d :\", 1,0,1)\n",
    "#             output3,rms3,mae6 = sarima(df,kunag,matnr,16,1,0,1)\n",
    "#             print(\"p,q,d :\", 1,1,0)\n",
    "#             output3,rms3,mae7 = sarima(df,kunag,matnr,16,1,1,0)\n",
    "# #             print(\"window :\", 11)\n",
    "# #             output3,rms3,mae7 = moving_average(df,kunag,matnr,16,11)\n",
    "\n",
    "#             result_df =pd.DataFrame(OrderedDict({\"kunag\" : [kunag],\n",
    "#                     \"matnr\" : [matnr],\n",
    "#                     \"window4\" : [round(mae1,3)],\n",
    "#                    \"window8\" : [round(mae2,3)],\n",
    "#                    \"window12\" : [round(mae3,3)],\n",
    "#                    \"window16\" : [round(mae4,3)],\n",
    "#                    \"window20\" : [round(mae5,3)],\n",
    "#                    \"window24\" : [round(mae6,3)],\n",
    "#                    \"window28\" : [round(mae7,3)]}))\n",
    "# #             result_df_df = pd.DataFrame({\"kunag\" : [kunag],\"matnr\" : [matnr], \"a1\" : [mae3]})\n",
    "#             print(result_df)\n",
    "#             main_df = main_df.append(result_df, ignore_index = True) \n",
    "#             cnt+=1\n",
    "# #             if(cnt == 5):                     \n",
    "# #                 break \n",
    "# # print(main_df)\n",
    "# end = time.time()\n",
    "# print(\"Time Taken : \",end - start)"
   ]
  },
  {
   "cell_type": "code",
   "execution_count": null,
   "metadata": {},
   "outputs": [],
   "source": [
    "b1 = pd.read_csv(\"results/arima010.csv\")\n",
    "b1.columns = ['arima010', 'kunag', 'matnr'] \n",
    "b1 = b1[['kunag',\"matnr\",\"arima010\"]]\n",
    "b2 = pd.read_csv(\"results/arima100.csv\")\n",
    "b2.columns = ['arima010', 'kunag', 'matnr'] \n",
    "b2 = b2[['kunag',\"matnr\",\"arima010\"]]\n",
    "del b2['matnr']\n",
    "del b2['kunag']\n",
    "b3 = pd.read_csv(\"results/arima011.csv\")\n",
    "b3.columns = ['arima010', 'kunag', 'matnr'] \n",
    "b3 = b3[['kunag',\"matnr\",\"arima010\"]]\n",
    "del b3['matnr']\n",
    "del b3['kunag']\n",
    "b4 = pd.read_csv(\"results/arima110.csv\")\n",
    "b4.columns = ['arima010', 'kunag', 'matnr'] \n",
    "b4 = b4[['kunag',\"matnr\",\"arima010\"]]\n",
    "del b4['matnr']\n",
    "del b4['kunag']\n",
    "b5 = pd.read_csv(\"results/arima021.csv\")\n",
    "b5.columns = ['arima010', 'kunag', 'matnr'] \n",
    "b5 = b5[['kunag',\"matnr\",\"arima010\"]]\n",
    "del b5['matnr']\n",
    "del b5['kunag']"
   ]
  },
  {
   "cell_type": "code",
   "execution_count": null,
   "metadata": {},
   "outputs": [],
   "source": [
    "print(b1.head())\n",
    "print(b2.head())\n",
    "print(b3.head())\n",
    "print(b4.head())\n",
    "print(b5.head())"
   ]
  },
  {
   "cell_type": "code",
   "execution_count": null,
   "metadata": {},
   "outputs": [],
   "source": [
    "df_new = pd.concat([b1, b2, b3, b4, b5],axis =1)"
   ]
  },
  {
   "cell_type": "code",
   "execution_count": null,
   "metadata": {},
   "outputs": [],
   "source": [
    "df_new.head()"
   ]
  },
  {
   "cell_type": "code",
   "execution_count": null,
   "metadata": {},
   "outputs": [],
   "source": [
    "df_new.shape"
   ]
  },
  {
   "cell_type": "code",
   "execution_count": null,
   "metadata": {},
   "outputs": [],
   "source": [
    "export_csv = df_new.to_csv (r'results/all_arima.csv',sep = \",\", index = None, header=True)"
   ]
  },
  {
   "cell_type": "code",
   "execution_count": null,
   "metadata": {},
   "outputs": [],
   "source": [
    "pd.read_csv(\"results/all_arima.csv\")"
   ]
  },
  {
   "cell_type": "code",
   "execution_count": null,
   "metadata": {},
   "outputs": [],
   "source": []
  }
 ],
 "metadata": {
  "kernelspec": {
   "display_name": "Python 3",
   "language": "python",
   "name": "python3"
  },
  "language_info": {
   "codemirror_mode": {
    "name": "ipython",
    "version": 3
   },
   "file_extension": ".py",
   "mimetype": "text/x-python",
   "name": "python",
   "nbconvert_exporter": "python",
   "pygments_lexer": "ipython3",
   "version": "3.6.8"
  }
 },
 "nbformat": 4,
 "nbformat_minor": 2
}
