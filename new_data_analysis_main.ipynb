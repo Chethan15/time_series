{
 "cells": [
  {
   "cell_type": "code",
   "execution_count": 1,
   "metadata": {},
   "outputs": [],
   "source": [
    "import pandas as pd\n",
    "from pandas import DataFrame\n",
    "import dateutil.parser\n",
    "import matplotlib.pyplot as plt\n",
    "import numpy as np"
   ]
  },
  {
   "cell_type": "code",
   "execution_count": 14,
   "metadata": {},
   "outputs": [
    {
     "data": {
      "text/html": [
       "<div>\n",
       "<style scoped>\n",
       "    .dataframe tbody tr th:only-of-type {\n",
       "        vertical-align: middle;\n",
       "    }\n",
       "\n",
       "    .dataframe tbody tr th {\n",
       "        vertical-align: top;\n",
       "    }\n",
       "\n",
       "    .dataframe thead th {\n",
       "        text-align: right;\n",
       "    }\n",
       "</style>\n",
       "<table border=\"1\" class=\"dataframe\">\n",
       "  <thead>\n",
       "    <tr style=\"text-align: right;\">\n",
       "      <th></th>\n",
       "      <th>kunag</th>\n",
       "      <th>matnr</th>\n",
       "      <th>date</th>\n",
       "      <th>quantity</th>\n",
       "      <th>price</th>\n",
       "    </tr>\n",
       "  </thead>\n",
       "  <tbody>\n",
       "    <tr>\n",
       "      <th>0</th>\n",
       "      <td>600398802</td>\n",
       "      <td>115583</td>\n",
       "      <td>2019-05-24</td>\n",
       "      <td>2.0</td>\n",
       "      <td>0.23529411764705882</td>\n",
       "    </tr>\n",
       "    <tr>\n",
       "      <th>1</th>\n",
       "      <td>600398802</td>\n",
       "      <td>102580</td>\n",
       "      <td>2019-05-10</td>\n",
       "      <td>1.0</td>\n",
       "      <td>0.0411692038826047</td>\n",
       "    </tr>\n",
       "    <tr>\n",
       "      <th>2</th>\n",
       "      <td>600398802</td>\n",
       "      <td>115584</td>\n",
       "      <td>2019-05-03</td>\n",
       "      <td>1.0</td>\n",
       "      <td>0.11764705882352941</td>\n",
       "    </tr>\n",
       "    <tr>\n",
       "      <th>3</th>\n",
       "      <td>600398802</td>\n",
       "      <td>152196</td>\n",
       "      <td>2019-05-03</td>\n",
       "      <td>1.0</td>\n",
       "      <td>0.031162355725927137</td>\n",
       "    </tr>\n",
       "    <tr>\n",
       "      <th>4</th>\n",
       "      <td>600398802</td>\n",
       "      <td>146048</td>\n",
       "      <td>2019-06-07</td>\n",
       "      <td>1.0</td>\n",
       "      <td>0.0411692038826047</td>\n",
       "    </tr>\n",
       "  </tbody>\n",
       "</table>\n",
       "</div>"
      ],
      "text/plain": [
       "       kunag   matnr        date  quantity                 price\n",
       "0  600398802  115583  2019-05-24       2.0   0.23529411764705882\n",
       "1  600398802  102580  2019-05-10       1.0    0.0411692038826047\n",
       "2  600398802  115584  2019-05-03       1.0   0.11764705882352941\n",
       "3  600398802  152196  2019-05-03       1.0  0.031162355725927137\n",
       "4  600398802  146048  2019-06-07       1.0    0.0411692038826047"
      ]
     },
     "execution_count": 14,
     "metadata": {},
     "output_type": "execute_result"
    }
   ],
   "source": [
    "# df = pd.read_csv(\"raw_invoices_4500_RACETRAC_20190621.tsv\", sep=',', header=None)\n",
    "df = pd.read_csv(\"invoice_2019_06_18_I010_4500.tsv\", sep=',', header=None)\n",
    "\n",
    "df.columns = [\"kunag\", \"matnr\", \"date\", \"quantity\",\"price\"]\n",
    "df.head()"
   ]
  },
  {
   "cell_type": "code",
   "execution_count": 15,
   "metadata": {},
   "outputs": [
    {
     "name": "stdout",
     "output_type": "stream",
     "text": [
      "(1149122, 5)\n",
      "430\n",
      "711\n"
     ]
    }
   ],
   "source": [
    "# dataframe.shape \n",
    "shape = df.shape \n",
    "print(shape)\n",
    "# df.kunag.nunique(dropna = True) \n",
    "x= pd.value_counts(df.kunag)\n",
    "print(len(x))\n",
    "y= pd.value_counts(df.matnr)\n",
    "print(len(y))"
   ]
  },
  {
   "cell_type": "code",
   "execution_count": null,
   "metadata": {},
   "outputs": [],
   "source": []
  },
  {
   "cell_type": "code",
   "execution_count": 17,
   "metadata": {},
   "outputs": [
    {
     "name": "stdout",
     "output_type": "stream",
     "text": [
      "(1087739, 5)\n",
      "kunag  430\n",
      "matnr  695\n"
     ]
    }
   ],
   "source": [
    "# df1 = df[(df > 0).all(1)]\n",
    "df1 = df[df[\"quantity\"] >=0]    \n",
    "\n",
    "# dataframe.shape \n",
    "shape = df1.shape \n",
    "print(shape)\n",
    "# df.kunag.nunique(dropna = True) \n",
    "x= pd.value_counts(df1.kunag)\n",
    "print(\"kunag \",len(x))\n",
    "y= pd.value_counts(df1.matnr)\n",
    "print(\"matnr \",len(y))"
   ]
  },
  {
   "cell_type": "code",
   "execution_count": 18,
   "metadata": {},
   "outputs": [
    {
     "data": {
      "text/plain": [
       "695"
      ]
     },
     "execution_count": 18,
     "metadata": {},
     "output_type": "execute_result"
    }
   ],
   "source": [
    "data = df1.groupby([\"matnr\"])\n",
    "len(data)"
   ]
  },
  {
   "cell_type": "code",
   "execution_count": 19,
   "metadata": {},
   "outputs": [
    {
     "data": {
      "text/plain": [
       "711"
      ]
     },
     "execution_count": 19,
     "metadata": {},
     "output_type": "execute_result"
    }
   ],
   "source": [
    "lst = df.matnr.unique() \n",
    "len(lst)"
   ]
  },
  {
   "cell_type": "code",
   "execution_count": 21,
   "metadata": {},
   "outputs": [],
   "source": [
    "# lst1 = df.name.unique() \n",
    "# len(lst1)"
   ]
  },
  {
   "cell_type": "code",
   "execution_count": 22,
   "metadata": {},
   "outputs": [],
   "source": [
    "# data1 = df1.groupby([\"name\"])\n",
    "# len(data1)"
   ]
  },
  {
   "cell_type": "code",
   "execution_count": 23,
   "metadata": {},
   "outputs": [],
   "source": [
    "# n_df1 = data1.get_group(lst1[2])\n",
    "# n_df1.head()"
   ]
  },
  {
   "cell_type": "code",
   "execution_count": 24,
   "metadata": {},
   "outputs": [
    {
     "ename": "NameError",
     "evalue": "name 'n_df1' is not defined",
     "output_type": "error",
     "traceback": [
      "\u001b[0;31m---------------------------------------------------------------------------\u001b[0m",
      "\u001b[0;31mNameError\u001b[0m                                 Traceback (most recent call last)",
      "\u001b[0;32m<ipython-input-24-2bcbd7281e9f>\u001b[0m in \u001b[0;36m<module>\u001b[0;34m\u001b[0m\n\u001b[0;32m----> 1\u001b[0;31m \u001b[0mdata\u001b[0m \u001b[0;34m=\u001b[0m \u001b[0mn_df1\u001b[0m\u001b[0;34m.\u001b[0m\u001b[0mgroupby\u001b[0m\u001b[0;34m(\u001b[0m\u001b[0;34m[\u001b[0m\u001b[0;34m\"matnr\"\u001b[0m\u001b[0;34m]\u001b[0m\u001b[0;34m)\u001b[0m\u001b[0;34m\u001b[0m\u001b[0;34m\u001b[0m\u001b[0m\n\u001b[0m\u001b[1;32m      2\u001b[0m \u001b[0mlen\u001b[0m\u001b[0;34m(\u001b[0m\u001b[0mdata\u001b[0m\u001b[0;34m)\u001b[0m\u001b[0;34m\u001b[0m\u001b[0;34m\u001b[0m\u001b[0m\n",
      "\u001b[0;31mNameError\u001b[0m: name 'n_df1' is not defined"
     ]
    }
   ],
   "source": [
    "data = n_df1.groupby([\"matnr\"])\n",
    "len(data)"
   ]
  },
  {
   "cell_type": "code",
   "execution_count": 33,
   "metadata": {},
   "outputs": [
    {
     "data": {
      "text/plain": [
       "437"
      ]
     },
     "execution_count": 33,
     "metadata": {},
     "output_type": "execute_result"
    }
   ],
   "source": [
    "lst = n_df1.matnr.unique() \n",
    "len(lst)"
   ]
  },
  {
   "cell_type": "code",
   "execution_count": 56,
   "metadata": {},
   "outputs": [
    {
     "data": {
      "text/plain": [
       "array(['I001', 'I004', 'I005', 'I018', 'I000', 'I017', 'I006', 'I012',\n",
       "       'I007', 'I002', 'I010', 'I013', 'I019'], dtype=object)"
      ]
     },
     "execution_count": 56,
     "metadata": {},
     "output_type": "execute_result"
    }
   ],
   "source": [
    "lst1"
   ]
  },
  {
   "cell_type": "code",
   "execution_count": 50,
   "metadata": {},
   "outputs": [
    {
     "data": {
      "text/plain": [
       "'I013'"
      ]
     },
     "execution_count": 50,
     "metadata": {},
     "output_type": "execute_result"
    }
   ],
   "source": [
    "lst1[11]"
   ]
  },
  {
   "cell_type": "code",
   "execution_count": 53,
   "metadata": {},
   "outputs": [],
   "source": [
    "# n_df1.shape"
   ]
  },
  {
   "cell_type": "code",
   "execution_count": 54,
   "metadata": {},
   "outputs": [
    {
     "name": "stdout",
     "output_type": "stream",
     "text": [
      "367\n",
      "367\n",
      "(73820, 6)\n"
     ]
    }
   ],
   "source": [
    "n_df1 = data1.get_group(lst1[11])\n",
    "data = n_df1.groupby([\"matnr\"])\n",
    "print(len(data))\n",
    "lst = n_df1.matnr.unique() \n",
    "print(len(lst))\n",
    "print(n_df1.shape)"
   ]
  },
  {
   "cell_type": "code",
   "execution_count": 55,
   "metadata": {},
   "outputs": [
    {
     "name": "stderr",
     "output_type": "stream",
     "text": [
      "/home/rahul/anaconda3/lib/python3.6/site-packages/ipykernel_launcher.py:9: SettingWithCopyWarning: \n",
      "A value is trying to be set on a copy of a slice from a DataFrame.\n",
      "Try using .loc[row_indexer,col_indexer] = value instead\n",
      "\n",
      "See the caveats in the documentation: http://pandas.pydata.org/pandas-docs/stable/indexing.html#indexing-view-versus-copy\n",
      "  if __name__ == '__main__':\n"
     ]
    },
    {
     "name": "stdout",
     "output_type": "stream",
     "text": [
      "count : 20\n",
      "count : 40\n",
      "count : 60\n",
      "count : 80\n",
      "count : 100\n",
      "count : 120\n",
      "count : 140\n",
      "count : 160\n",
      "count : 180\n",
      "count : 200\n",
      "count : 220\n",
      "count : 240\n",
      "count : 260\n",
      "count : 280\n",
      "count : 300\n",
      "count : 320\n",
      "count : 340\n",
      "count : 360\n"
     ]
    }
   ],
   "source": [
    "\n",
    "\n",
    "\n",
    "cnt = 0\n",
    "for i  in range(0,n_df1.shape[0]):\n",
    "    try:\n",
    "        n_df1 = data.get_group(lst[i])\n",
    "        index = lst[i]\n",
    "        n_df1['date'] = pd.to_datetime(n_df1['date'], errors='coerce')\n",
    "        del n_df1[\"kunag\"]\n",
    "        del n_df1[\"matnr\"]\n",
    "        n_df1 = n_df1.sort_values('date')\n",
    "        n_df1.set_index('date',inplace=True)\n",
    "        n_df1.index = pd.to_datetime(n_df1.index, unit='s')\n",
    "        weekly_resampled_data = n_df1.quantity.resample('W').sum() \n",
    "        weekly_resampled_data = weekly_resampled_data.replace(np.nan, 0)\n",
    "        individual_series = weekly_resampled_data.to_frame() \n",
    "        individual_series = individual_series.reset_index()\n",
    "        plt.figure(figsize=(16,8))\n",
    "        plt.plot( weekly_resampled_data, marker='.', color='blue')\n",
    "        plt.xlabel(\"time\",color = \"red\")\n",
    "        plt.ylabel('quantity',color = \"red\")\n",
    "        plt.savefig(\"/home/rahul/Downloads/bharat/time_series1/racetrac/I013/\" + 'Graph_{}.png'.format(index), format=\"PNG\")  \n",
    "\n",
    "        cnt+=1\n",
    "        plt.close()\n",
    "        if (cnt%20==0):\n",
    "            print(\"count :\", cnt)\n",
    "#             break\n",
    "\n",
    "    except:\n",
    "        pass"
   ]
  },
  {
   "cell_type": "code",
   "execution_count": 30,
   "metadata": {},
   "outputs": [
    {
     "name": "stderr",
     "output_type": "stream",
     "text": [
      "/home/rahul/anaconda3/lib/python3.6/site-packages/ipykernel_launcher.py:6: SettingWithCopyWarning: \n",
      "A value is trying to be set on a copy of a slice from a DataFrame.\n",
      "Try using .loc[row_indexer,col_indexer] = value instead\n",
      "\n",
      "See the caveats in the documentation: http://pandas.pydata.org/pandas-docs/stable/indexing.html#indexing-view-versus-copy\n",
      "  \n"
     ]
    },
    {
     "name": "stdout",
     "output_type": "stream",
     "text": [
      "count : 5\n",
      "count : 10\n",
      "count : 15\n",
      "count : 20\n",
      "count : 25\n",
      "count : 30\n",
      "count : 35\n",
      "count : 40\n",
      "count : 45\n",
      "count : 50\n",
      "count : 55\n",
      "count : 60\n",
      "count : 65\n",
      "count : 70\n",
      "count : 75\n",
      "count : 80\n",
      "count : 85\n",
      "count : 90\n",
      "count : 95\n",
      "count : 100\n",
      "count : 105\n",
      "count : 110\n",
      "count : 115\n",
      "count : 120\n",
      "count : 125\n",
      "count : 130\n",
      "count : 135\n",
      "count : 140\n",
      "count : 145\n",
      "count : 150\n",
      "count : 155\n",
      "count : 160\n",
      "count : 165\n",
      "count : 170\n",
      "count : 175\n",
      "count : 180\n",
      "count : 185\n",
      "count : 190\n",
      "count : 195\n",
      "count : 200\n",
      "count : 205\n",
      "count : 210\n",
      "count : 215\n",
      "count : 220\n",
      "count : 225\n",
      "count : 230\n",
      "count : 235\n",
      "count : 240\n",
      "count : 245\n",
      "count : 250\n",
      "count : 255\n",
      "count : 260\n",
      "count : 265\n",
      "count : 270\n",
      "count : 275\n",
      "count : 280\n",
      "count : 285\n",
      "count : 290\n",
      "count : 295\n",
      "count : 300\n",
      "count : 305\n",
      "count : 310\n",
      "count : 315\n",
      "count : 320\n",
      "count : 325\n",
      "count : 330\n",
      "count : 335\n",
      "count : 340\n",
      "count : 345\n",
      "count : 350\n",
      "count : 355\n",
      "count : 360\n",
      "count : 365\n",
      "count : 370\n",
      "count : 375\n",
      "count : 380\n",
      "count : 385\n",
      "count : 390\n",
      "count : 395\n",
      "count : 400\n",
      "count : 405\n",
      "count : 410\n",
      "count : 415\n",
      "count : 420\n",
      "count : 425\n",
      "count : 430\n",
      "count : 435\n",
      "count : 440\n",
      "count : 445\n"
     ]
    }
   ],
   "source": [
    "\n",
    "\n",
    "\n",
    "# cnt = 0\n",
    "# for i  in range(0,n_df1.shape[0]):\n",
    "#     try:\n",
    "#         n_df1 = data.get_group(lst[i])\n",
    "#         index = lst[i]\n",
    "#         n_df1['date'] = pd.to_datetime(n_df1['date'], errors='coerce')\n",
    "#         del n_df1[\"kunag\"]\n",
    "#         del n_df1[\"matnr\"]\n",
    "#         n_df1 = n_df1.sort_values('date')\n",
    "#         n_df1.set_index('date',inplace=True)\n",
    "#         n_df1.index = pd.to_datetime(n_df1.index, unit='s')\n",
    "#         weekly_resampled_data = n_df1.quantity.resample('W').sum() \n",
    "#         weekly_resampled_data = weekly_resampled_data.replace(np.nan, 0)\n",
    "#         individual_series = weekly_resampled_data.to_frame() \n",
    "#         individual_series = individual_series.reset_index()\n",
    "#         plt.figure(figsize=(16,8))\n",
    "#         plt.plot( weekly_resampled_data, marker='.', color='blue')\n",
    "#         plt.xlabel(\"time\",color = \"red\")\n",
    "#         plt.ylabel('quantity',color = \"red\")\n",
    "#         plt.savefig(\"/home/rahul/Downloads/bharat/time_series1/racetrac/I005/\" + 'Graph_{}.png'.format(index), format=\"PNG\")  \n",
    "\n",
    "#         cnt+=1\n",
    "#         plt.close()\n",
    "#         if (cnt%20==0):\n",
    "#             print(\"count :\", cnt)\n",
    "# #             break\n",
    "\n",
    "#     except:\n",
    "#         pass"
   ]
  },
  {
   "cell_type": "code",
   "execution_count": null,
   "metadata": {},
   "outputs": [],
   "source": [
    "# lst1 = df.name.unique() \n",
    "# len(lst1)\n",
    "# k = 0\n",
    "# for i in range(0,len(lst1)):\n",
    "#     print(i)\n",
    "#     n_df = data1.get_group(lst1[i])\n",
    "#     data = n_df.groupby([\"matnr\"])\n",
    "#     lst = n_df.matnr.unique() \n",
    "# #     print(n_df.shape)\n",
    "# #     print(len(data))\n",
    "#     print(len(lst),\"\\n\")\n",
    "#     name = str(lst1[i])\n",
    "#     print(name)\n",
    "#     k += n_df.shape[0]\n",
    "#     print(k)\n",
    "#     for j  in range(0,n_df.shape[0]):\n",
    "# #         print(j)\n",
    "#         try:\n",
    "#             folder = 'racetrac/'+name + \"/\" \n",
    "#             if not os.path.exists(folder):\n",
    "#                 os.makedirs(folder)\n",
    "#             n_df1 = data.get_group(lst[i])\n",
    "#             index = lst[i]\n",
    "#             n_df1['date'] = pd.to_datetime(n_df1['date'], errors='coerce')\n",
    "#             del n_df1[\"kunag\"]\n",
    "#             del n_df1[\"matnr\"]\n",
    "#             n_df1 = n_df1.sort_values('date')\n",
    "#             n_df1.set_index('date',inplace=True)\n",
    "#             n_df1.index = pd.to_datetime(n_df1.index, unit='s')\n",
    "#             weekly_resampled_data = n_df1.quantity.resample('W').sum() \n",
    "#             weekly_resampled_data = weekly_resampled_data.replace(np.nan, 0)\n",
    "#             individual_series = weekly_resampled_data.to_frame() \n",
    "#             individual_series = individual_series.reset_index()\n",
    "#             plt.figure(figsize=(16,8))\n",
    "#             plt.plot( weekly_resampled_data, marker='.', color='blue')\n",
    "#             plt.xlabel(\"time\",color = \"red\")\n",
    "#             plt.ylabel('quantity',color = \"red\")\n",
    "#             plt.savefig(folder + 'Graph_{}.png'.format(index), format=\"PNG\")  \n",
    "\n",
    "#             cnt+=1\n",
    "#             plt.close()\n",
    "#             if (cnt%5==0):\n",
    "#                 print(\"count :\", cnt)\n",
    "#     #             break\n",
    "\n",
    "#         except:\n",
    "#             pass"
   ]
  },
  {
   "cell_type": "code",
   "execution_count": 76,
   "metadata": {},
   "outputs": [
    {
     "name": "stdout",
     "output_type": "stream",
     "text": [
      "711\n",
      "711\n",
      "(26618, 5)\n"
     ]
    },
    {
     "data": {
      "text/html": [
       "<div>\n",
       "<style scoped>\n",
       "    .dataframe tbody tr th:only-of-type {\n",
       "        vertical-align: middle;\n",
       "    }\n",
       "\n",
       "    .dataframe tbody tr th {\n",
       "        vertical-align: top;\n",
       "    }\n",
       "\n",
       "    .dataframe thead th {\n",
       "        text-align: right;\n",
       "    }\n",
       "</style>\n",
       "<table border=\"1\" class=\"dataframe\">\n",
       "  <thead>\n",
       "    <tr style=\"text-align: right;\">\n",
       "      <th></th>\n",
       "      <th>kunag</th>\n",
       "      <th>matnr</th>\n",
       "      <th>date</th>\n",
       "      <th>quantity</th>\n",
       "      <th>price</th>\n",
       "    </tr>\n",
       "  </thead>\n",
       "  <tbody>\n",
       "    <tr>\n",
       "      <th>0</th>\n",
       "      <td>600398802</td>\n",
       "      <td>115583</td>\n",
       "      <td>2019-05-24</td>\n",
       "      <td>2.0</td>\n",
       "      <td>0.23529411764705882</td>\n",
       "    </tr>\n",
       "    <tr>\n",
       "      <th>13</th>\n",
       "      <td>600398802</td>\n",
       "      <td>115583</td>\n",
       "      <td>2019-05-31</td>\n",
       "      <td>2.0</td>\n",
       "      <td>0.23529411764705882</td>\n",
       "    </tr>\n",
       "    <tr>\n",
       "      <th>14</th>\n",
       "      <td>600398802</td>\n",
       "      <td>115583</td>\n",
       "      <td>2019-05-17</td>\n",
       "      <td>1.0</td>\n",
       "      <td>0.11764705882352941</td>\n",
       "    </tr>\n",
       "    <tr>\n",
       "      <th>30</th>\n",
       "      <td>600398802</td>\n",
       "      <td>115583</td>\n",
       "      <td>2019-05-03</td>\n",
       "      <td>2.0</td>\n",
       "      <td>0.23529411764705882</td>\n",
       "    </tr>\n",
       "    <tr>\n",
       "      <th>51</th>\n",
       "      <td>600398802</td>\n",
       "      <td>115583</td>\n",
       "      <td>2019-06-07</td>\n",
       "      <td>1.0</td>\n",
       "      <td>0.11764705882352941</td>\n",
       "    </tr>\n",
       "  </tbody>\n",
       "</table>\n",
       "</div>"
      ],
      "text/plain": [
       "        kunag   matnr        date  quantity                price\n",
       "0   600398802  115583  2019-05-24       2.0  0.23529411764705882\n",
       "13  600398802  115583  2019-05-31       2.0  0.23529411764705882\n",
       "14  600398802  115583  2019-05-17       1.0  0.11764705882352941\n",
       "30  600398802  115583  2019-05-03       2.0  0.23529411764705882\n",
       "51  600398802  115583  2019-06-07       1.0  0.11764705882352941"
      ]
     },
     "execution_count": 76,
     "metadata": {},
     "output_type": "execute_result"
    }
   ],
   "source": [
    "# n_df1 = data1.get_group(lst1[11])\n",
    "data = df.groupby([\"matnr\"])\n",
    "print(len(data))\n",
    "lst = df.matnr.unique() \n",
    "print(len(lst))\n",
    "n_df = data.get_group(115583)\n",
    "\n",
    "# n_df = data.get_grou\n",
    "print(n_df.shape)\n",
    "n_df.head()"
   ]
  },
  {
   "cell_type": "code",
   "execution_count": 77,
   "metadata": {},
   "outputs": [
    {
     "name": "stdout",
     "output_type": "stream",
     "text": [
      "        kunag   matnr      date  quantity                price\n",
      "0   600398802  115583  20190524       2.0  0.23529411764705882\n",
      "13  600398802  115583  20190531       2.0  0.23529411764705882\n",
      "14  600398802  115583  20190517       1.0  0.11764705882352941\n",
      "30  600398802  115583  20190503       2.0  0.23529411764705882\n",
      "51  600398802  115583  20190607       1.0  0.11764705882352941\n"
     ]
    },
    {
     "name": "stderr",
     "output_type": "stream",
     "text": [
      "/home/rahul/anaconda3/lib/python3.6/site-packages/ipykernel_launcher.py:6: SettingWithCopyWarning: \n",
      "A value is trying to be set on a copy of a slice from a DataFrame.\n",
      "Try using .loc[row_indexer,col_indexer] = value instead\n",
      "\n",
      "See the caveats in the documentation: http://pandas.pydata.org/pandas-docs/stable/indexing.html#indexing-view-versus-copy\n",
      "  \n"
     ]
    }
   ],
   "source": [
    "# df = pd.read_csv(\"invoice_2019_06_18_I010_4500.tsv\", sep=',', header=None)\n",
    "\n",
    "# df.columns = [\"kunag\", \"matnr\", \"date\", \"quantity\",\"price\"]\n",
    "# print(df.head())\n",
    "n_df.date = n_df.date.apply(lambda x : pd.to_datetime(x,format = '%Y-%m-%d', errors='ignore'))\n",
    "n_df['date'] = n_df['date'].dt.strftime('%Y%m%d')\n",
    "# n_df['date'] = pd.to_datetime(n_df['date'], errors='coerce')\n",
    "# print(n_df.head())\n",
    "\n",
    "\n",
    "# n_df.date = n_df.date.apply(lambda x : n_df.strftime(x, format = '%m/%d/%Y',erroes = \"ignore\"))\n",
    "print(n_df.head())\n"
   ]
  },
  {
   "cell_type": "code",
   "execution_count": 74,
   "metadata": {},
   "outputs": [
    {
     "name": "stderr",
     "output_type": "stream",
     "text": [
      "/home/rahul/anaconda3/lib/python3.6/site-packages/ipykernel_launcher.py:1: SettingWithCopyWarning: \n",
      "A value is trying to be set on a copy of a slice from a DataFrame.\n",
      "Try using .loc[row_indexer,col_indexer] = value instead\n",
      "\n",
      "See the caveats in the documentation: http://pandas.pydata.org/pandas-docs/stable/indexing.html#indexing-view-versus-copy\n",
      "  \"\"\"Entry point for launching an IPython kernel.\n",
      "/home/rahul/anaconda3/lib/python3.6/site-packages/ipykernel_launcher.py:2: SettingWithCopyWarning: \n",
      "A value is trying to be set on a copy of a slice from a DataFrame.\n",
      "Try using .loc[row_indexer,col_indexer] = value instead\n",
      "\n",
      "See the caveats in the documentation: http://pandas.pydata.org/pandas-docs/stable/indexing.html#indexing-view-versus-copy\n",
      "  \n"
     ]
    }
   ],
   "source": [
    "df['date']=pd.to_datetime(df['date'].astype(str), format='%Y-%m-%d')\n",
    "df['date'] = df['date'].dt.strftime('%Y%m%d')"
   ]
  },
  {
   "cell_type": "code",
   "execution_count": 75,
   "metadata": {},
   "outputs": [
    {
     "data": {
      "text/plain": [
       "0     20190524\n",
       "13    20190531\n",
       "14    20190517\n",
       "30    20190503\n",
       "51    20190607\n",
       "Name: date, dtype: object"
      ]
     },
     "execution_count": 75,
     "metadata": {},
     "output_type": "execute_result"
    }
   ],
   "source": [
    "n_df[\"date\"].head()"
   ]
  },
  {
   "cell_type": "code",
   "execution_count": 67,
   "metadata": {},
   "outputs": [
    {
     "name": "stderr",
     "output_type": "stream",
     "text": [
      "/home/rahul/anaconda3/lib/python3.6/site-packages/ipykernel_launcher.py:1: SettingWithCopyWarning: \n",
      "A value is trying to be set on a copy of a slice from a DataFrame.\n",
      "Try using .loc[row_indexer,col_indexer] = value instead\n",
      "\n",
      "See the caveats in the documentation: http://pandas.pydata.org/pandas-docs/stable/indexing.html#indexing-view-versus-copy\n",
      "  \"\"\"Entry point for launching an IPython kernel.\n"
     ]
    }
   ],
   "source": [
    "n_df['date'] = n_df['date'].dt.strftime('%Y/%m/%d')"
   ]
  },
  {
   "cell_type": "code",
   "execution_count": 68,
   "metadata": {},
   "outputs": [
    {
     "data": {
      "text/html": [
       "<div>\n",
       "<style scoped>\n",
       "    .dataframe tbody tr th:only-of-type {\n",
       "        vertical-align: middle;\n",
       "    }\n",
       "\n",
       "    .dataframe tbody tr th {\n",
       "        vertical-align: top;\n",
       "    }\n",
       "\n",
       "    .dataframe thead th {\n",
       "        text-align: right;\n",
       "    }\n",
       "</style>\n",
       "<table border=\"1\" class=\"dataframe\">\n",
       "  <thead>\n",
       "    <tr style=\"text-align: right;\">\n",
       "      <th></th>\n",
       "      <th>kunag</th>\n",
       "      <th>matnr</th>\n",
       "      <th>date</th>\n",
       "      <th>quantity</th>\n",
       "      <th>price</th>\n",
       "      <th>date1</th>\n",
       "    </tr>\n",
       "  </thead>\n",
       "  <tbody>\n",
       "    <tr>\n",
       "      <th>0</th>\n",
       "      <td>600398802</td>\n",
       "      <td>115583</td>\n",
       "      <td>2019/05/24</td>\n",
       "      <td>2.0</td>\n",
       "      <td>0.23529411764705882</td>\n",
       "      <td>2019/05/24</td>\n",
       "    </tr>\n",
       "    <tr>\n",
       "      <th>13</th>\n",
       "      <td>600398802</td>\n",
       "      <td>115583</td>\n",
       "      <td>2019/05/31</td>\n",
       "      <td>2.0</td>\n",
       "      <td>0.23529411764705882</td>\n",
       "      <td>2019/05/31</td>\n",
       "    </tr>\n",
       "    <tr>\n",
       "      <th>14</th>\n",
       "      <td>600398802</td>\n",
       "      <td>115583</td>\n",
       "      <td>2019/05/17</td>\n",
       "      <td>1.0</td>\n",
       "      <td>0.11764705882352941</td>\n",
       "      <td>2019/05/17</td>\n",
       "    </tr>\n",
       "    <tr>\n",
       "      <th>30</th>\n",
       "      <td>600398802</td>\n",
       "      <td>115583</td>\n",
       "      <td>2019/05/03</td>\n",
       "      <td>2.0</td>\n",
       "      <td>0.23529411764705882</td>\n",
       "      <td>2019/05/03</td>\n",
       "    </tr>\n",
       "    <tr>\n",
       "      <th>51</th>\n",
       "      <td>600398802</td>\n",
       "      <td>115583</td>\n",
       "      <td>2019/06/07</td>\n",
       "      <td>1.0</td>\n",
       "      <td>0.11764705882352941</td>\n",
       "      <td>2019/06/07</td>\n",
       "    </tr>\n",
       "  </tbody>\n",
       "</table>\n",
       "</div>"
      ],
      "text/plain": [
       "        kunag   matnr        date  quantity                price       date1\n",
       "0   600398802  115583  2019/05/24       2.0  0.23529411764705882  2019/05/24\n",
       "13  600398802  115583  2019/05/31       2.0  0.23529411764705882  2019/05/31\n",
       "14  600398802  115583  2019/05/17       1.0  0.11764705882352941  2019/05/17\n",
       "30  600398802  115583  2019/05/03       2.0  0.23529411764705882  2019/05/03\n",
       "51  600398802  115583  2019/06/07       1.0  0.11764705882352941  2019/06/07"
      ]
     },
     "execution_count": 68,
     "metadata": {},
     "output_type": "execute_result"
    }
   ],
   "source": [
    "n_df.head()"
   ]
  },
  {
   "cell_type": "code",
   "execution_count": null,
   "metadata": {},
   "outputs": [],
   "source": []
  },
  {
   "cell_type": "code",
   "execution_count": null,
   "metadata": {},
   "outputs": [],
   "source": []
  },
  {
   "cell_type": "code",
   "execution_count": null,
   "metadata": {},
   "outputs": [],
   "source": []
  },
  {
   "cell_type": "code",
   "execution_count": null,
   "metadata": {},
   "outputs": [],
   "source": []
  },
  {
   "cell_type": "code",
   "execution_count": null,
   "metadata": {},
   "outputs": [],
   "source": []
  },
  {
   "cell_type": "code",
   "execution_count": null,
   "metadata": {},
   "outputs": [],
   "source": []
  },
  {
   "cell_type": "code",
   "execution_count": null,
   "metadata": {},
   "outputs": [],
   "source": []
  },
  {
   "cell_type": "code",
   "execution_count": null,
   "metadata": {},
   "outputs": [],
   "source": []
  },
  {
   "cell_type": "code",
   "execution_count": null,
   "metadata": {},
   "outputs": [],
   "source": [
    "# input_df = df[df[\"quantity\"] >=0] \n",
    "# del df['price']\n",
    "# df.head()"
   ]
  },
  {
   "cell_type": "code",
   "execution_count": null,
   "metadata": {},
   "outputs": [],
   "source": []
  }
 ],
 "metadata": {
  "kernelspec": {
   "display_name": "Python 3",
   "language": "python",
   "name": "python3"
  },
  "language_info": {
   "codemirror_mode": {
    "name": "ipython",
    "version": 3
   },
   "file_extension": ".py",
   "mimetype": "text/x-python",
   "name": "python",
   "nbconvert_exporter": "python",
   "pygments_lexer": "ipython3",
   "version": "3.6.8"
  }
 },
 "nbformat": 4,
 "nbformat_minor": 2
}
