{
 "cells": [
  {
   "cell_type": "code",
   "execution_count": null,
   "metadata": {},
   "outputs": [],
   "source": [
    "import pandas as pd\n",
    "from pandas import DataFrame\n",
    "import dateutil.parser\n",
    "import matplotlib.pyplot as plt\n",
    "import numpy as np"
   ]
  },
  {
   "cell_type": "code",
   "execution_count": null,
   "metadata": {},
   "outputs": [],
   "source": [
    "df = pd.read_csv(\"4200_C005_2019_03_03.tsv\", sep=',', header=None)\n",
    "df.columns = [\"kunag\", \"matnr\", \"date\", \"quantity\",\"price\"]"
   ]
  },
  {
   "cell_type": "code",
   "execution_count": null,
   "metadata": {},
   "outputs": [],
   "source": [
    "df.head()"
   ]
  },
  {
   "cell_type": "code",
   "execution_count": null,
   "metadata": {},
   "outputs": [],
   "source": [
    "del df['price']"
   ]
  },
  {
   "cell_type": "code",
   "execution_count": null,
   "metadata": {},
   "outputs": [],
   "source": [
    "# dataframe.shape \n",
    "shape = df.shape \n",
    "print(shape)\n",
    "# df.kunag.nunique(dropna = True) \n",
    "x= pd.value_counts(df.kunag)\n",
    "print(len(x))\n",
    "y= pd.value_counts(df.matnr)\n",
    "print(len(y))"
   ]
  },
  {
   "cell_type": "code",
   "execution_count": null,
   "metadata": {},
   "outputs": [],
   "source": [
    "df1 = df[(df > 0).all(1)]\n",
    "\n",
    "# dataframe.shape \n",
    "shape = df1.shape \n",
    "print(shape)\n",
    "# df.kunag.nunique(dropna = True) \n",
    "x= pd.value_counts(df1.kunag)\n",
    "print(len(x))\n",
    "y= pd.value_counts(df1.matnr)\n",
    "print(len(y))"
   ]
  },
  {
   "cell_type": "code",
   "execution_count": null,
   "metadata": {},
   "outputs": [],
   "source": [
    "def n_series(input_df,kunag,matnr):\n",
    "    #removing the negative value rows\n",
    "    input_df = input_df[input_df[\"quantity\"] >=0]    \n",
    "    df = input_df.copy()\n",
    "    \n",
    "    #finding a single customer(kunag),material(matnr) combination on the basis of input provided\n",
    "    n_df1 = df[(df[\"kunag\"] == kunag) & (df[\"matnr\"] == matnr)]\n",
    "    \n",
    "    #parsing the date column in a datetime format\n",
    "    n_df1.date = n_df1.date.apply(lambda x : pd.to_datetime(x,format = '%Y%m%d', errors='ignore'))\n",
    "    #sort date start to end\n",
    "    n_df1 = n_df1.sort_values('date')\n",
    "    n_df1.set_index('date',inplace=True)\n",
    "    \n",
    "    #sampling the data on weekly basis (index is set to date first in the above step to do weekly sampling\n",
    "    weekly_resampled_data = n_df1.quantity.resample('W').sum() \n",
    "    weekly_resampled_data = weekly_resampled_data.replace(np.nan, 0)\n",
    "    individual_series = weekly_resampled_data.to_frame() \n",
    "    \n",
    "    #resetting index so that date can be used as column\n",
    "#     individual_series = individual_series.reset_index()\n",
    "    return individual_series"
   ]
  },
  {
   "cell_type": "code",
   "execution_count": null,
   "metadata": {},
   "outputs": [],
   "source": [
    "import os, sys,time\n",
    "start = time.time()\n",
    "bucket = pd.read_csv(\"bucket.csv\")\n",
    "df = pd.read_csv(\"4200_C005_2019_03_03.tsv\", sep=',', header=None)\n",
    "df.columns = [\"kunag\", \"matnr\", \"date\", \"quantity\",\"price\"]\n",
    "k = bucket.shape[0]\n",
    "cnt = 0\n",
    "for i in range (1,k):\n",
    "            kunag = int(bucket[\"kunag\"].iloc[i])\n",
    "            matnr = int(bucket[\"matnr\"].iloc[i])\n",
    "            index = str(kunag) +\"_\"+ str(matnr)\n",
    "            print(\"count\",cnt)\n",
    "            print(\"index : \",index)\n",
    "            individual_series = n_series(df,kunag,matnr)\n",
    "#             print(individual_series)\n",
    "            plt.figure(figsize=(16,8))\n",
    "#             plt.plot(individual_series '.r-') \n",
    "            plt.plot( individual_series, marker='.', color='blue')\n",
    "#             plt.plot(individual_series)\n",
    "            plt.xlabel(\"time\")\n",
    "            plt.ylabel('quantity')\n",
    "            plt.savefig(\"/home/rahul/Downloads/bharat/time_series1/high_freq_plots/\" + 'Graph_{}.png'.format(index), format=\"PNG\")  \n",
    "\n",
    "            plt.show()\n",
    "\n",
    "            plt.show()\n",
    "            cnt+=1\n",
    "            plt.close()\n",
    "end = time.time()\n",
    "print(\"Time Taken : \",end - start)"
   ]
  },
  {
   "cell_type": "code",
   "execution_count": null,
   "metadata": {},
   "outputs": [],
   "source": []
  },
  {
   "cell_type": "code",
   "execution_count": null,
   "metadata": {},
   "outputs": [],
   "source": []
  },
  {
   "cell_type": "code",
   "execution_count": null,
   "metadata": {},
   "outputs": [],
   "source": []
  }
 ],
 "metadata": {
  "kernelspec": {
   "display_name": "Python 3",
   "language": "python",
   "name": "python3"
  },
  "language_info": {
   "codemirror_mode": {
    "name": "ipython",
    "version": 3
   },
   "file_extension": ".py",
   "mimetype": "text/x-python",
   "name": "python",
   "nbconvert_exporter": "python",
   "pygments_lexer": "ipython3",
   "version": "3.6.8"
  }
 },
 "nbformat": 4,
 "nbformat_minor": 2
}
