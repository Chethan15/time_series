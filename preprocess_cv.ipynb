{
 "cells": [
  {
   "cell_type": "code",
   "execution_count": null,
   "metadata": {},
   "outputs": [],
   "source": [
    "##n_series to find the individual series for a kunag,matnr combination\n",
    "def n_series(input_df,kunag,matnr):\n",
    "    #removing the negative value rows\n",
    "    input_df = input_df[input_df[\"quantity\"] >=0]    \n",
    "    df = input_df.copy()\n",
    "    \n",
    "    #finding a single customer(kunag),material(matnr) combination on the basis of input provided\n",
    "    n_df1 = df[(df[\"kunag\"] == kunag) & (df[\"matnr\"] == matnr)]\n",
    "    \n",
    "    #parsing the date column in a datetime format\n",
    "    n_df1.date = n_df1.date.apply(lambda x : pd.to_datetime(x,format = '%Y%m%d', errors='ignore'))\n",
    "    #sort date start to end\n",
    "    n_df1 = n_df1.sort_values('date')\n",
    "    n_df1.set_index('date',inplace=True)\n",
    "    \n",
    "    #sampling the data on weekly basis (index is set to date first in the above step to do weekly sampling\n",
    "    weekly_resampled_data = n_df1.quantity.resample('W').sum() \n",
    "    weekly_resampled_data = weekly_resampled_data.replace(np.nan, 0)\n",
    "    individual_series = weekly_resampled_data.to_frame() \n",
    "    \n",
    "    #resetting index so that date can be used as column\n",
    "    individual_series = individual_series.reset_index()\n",
    "    return individual_series\n",
    "\n",
    "\n",
    "#splitting the individual series basesd on the number of weeks (i, is for dyanamic point forecasts)\n",
    "def train_test_split(input_df,kunag,matnr,i):\n",
    "    data= n_series(input_df,kunag,matnr)\n",
    "    train = data.iloc[0:-i]    \n",
    "    test = data.iloc[-i:]\n",
    "    return train,test\n",
    "\n",
    "def train_cv_split(input_df,kunag,matnr,i,j):\n",
    "    data= n_series(input_df,kunag,matnr)\n",
    "    train = data.iloc[0:-i]\n",
    "    cv = data.iloc[-i:-j]\n",
    "    return train,cv\n",
    "\n",
    "def test(input_df,kunag,matnr):\n",
    "    data= n_series(input_df,kunag,matnr)\n",
    "#     print(data)\n",
    "    test = data.iloc[-16:]\n",
    "    return test"
   ]
  }
 ],
 "metadata": {
  "kernelspec": {
   "display_name": "Python 3",
   "language": "python",
   "name": "python3"
  },
  "language_info": {
   "codemirror_mode": {
    "name": "ipython",
    "version": 3
   },
   "file_extension": ".py",
   "mimetype": "text/x-python",
   "name": "python",
   "nbconvert_exporter": "python",
   "pygments_lexer": "ipython3",
   "version": "3.6.8"
  }
 },
 "nbformat": 4,
 "nbformat_minor": 2
}
